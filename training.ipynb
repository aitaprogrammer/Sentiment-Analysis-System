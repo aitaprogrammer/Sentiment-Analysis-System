{
  "cells": [
    {
      "cell_type": "markdown",
      "metadata": {
        "id": "Yl_dS10rI1YR"
      },
      "source": [
        "# 📚 **Importing Libaries**"
      ]
    },
    {
      "cell_type": "code",
      "execution_count": null,
      "metadata": {
        "id": "w4-z5-WUIoxg"
      },
      "outputs": [],
      "source": [
        "import os\n",
        "import re\n",
        "import joblib\n",
        "import pandas as pd\n",
        "import numpy as np\n",
        "from sklearn.feature_extraction.text import TfidfVectorizer\n",
        "from sklearn.naive_bayes import MultinomialNB\n",
        "from sklearn.linear_model import LogisticRegression\n",
        "from sklearn.svm import LinearSVC\n",
        "from sklearn.ensemble import VotingClassifier\n",
        "from sklearn.metrics import classification_report, accuracy_score, f1_score\n",
        "import tensorflow as tf\n",
        "from tensorflow.keras.preprocessing.text import Tokenizer\n",
        "from tensorflow.keras.preprocessing.sequence import pad_sequences\n",
        "from tensorflow.keras.models import Sequential,save_model\n",
        "from tensorflow.keras.layers import Embedding, LSTM, Dense, Dropout\n",
        "from tensorflow.keras.utils import to_categorical\n",
        "from tensorflow.keras.callbacks import EarlyStopping\n",
        "from sklearn.neighbors import KNeighborsClassifier\n",
        "from xgboost import XGBClassifier\n",
        "from tensorflow.keras.layers import Bidirectional\n",
        "from sklearn.preprocessing import LabelEncoder\n",
        "from sklearn.ensemble import StackingClassifier\n",
        "from scipy.special import softmax\n",
        "import matplotlib.pyplot as plt\n",
        "\n"
      ]
    },
    {
      "cell_type": "markdown",
      "metadata": {
        "id": "S-5UwL0GI7Fo"
      },
      "source": [
        "# **🔧 Data PreProcessing**"
      ]
    },
    {
      "cell_type": "markdown",
      "metadata": {
        "id": "IoZcTokhLfZQ"
      },
      "source": [
        "**📈 Loading Data**"
      ]
    },
    {
      "cell_type": "code",
      "execution_count": null,
      "metadata": {
        "id": "ETj4jansI0q_"
      },
      "outputs": [],
      "source": [
        "# Load data\n",
        "train_df = pd.read_csv(\"train.csv\")\n",
        "val_df = pd.read_csv(\"validation.csv\")\n",
        "test_df = pd.read_csv(\"test.csv\")\n"
      ]
    },
    {
      "cell_type": "markdown",
      "metadata": {
        "id": "XRS2Qq9XMfYw"
      },
      "source": [
        "**🧹 Cleaning Data**"
      ]
    },
    {
      "cell_type": "code",
      "execution_count": null,
      "metadata": {
        "id": "kXd1oUyeMf0F"
      },
      "outputs": [],
      "source": [
        "def clean_text(text):\n",
        "    text = re.sub(r'https?://\\S+', '', text)  # Remove URLs\n",
        "    text = re.sub(r'@\\S+', '', text)          # Remove mentions\n",
        "    text = re.sub(r'#', '', text)             # Remove hashtags\n",
        "    text = re.sub(r'[^a-zA-Z0-9\\s]', ' ', text)  # Keep alphanumeric\n",
        "    return text.strip().lower()\n",
        "# Clean text\n",
        "train_df['text'] = train_df['text'].astype(str).apply(clean_text)\n",
        "val_df['text'] = val_df['text'].astype(str).apply(clean_text)\n",
        "test_df['text'] = test_df['text'].astype(str).apply(clean_text)\n",
        "\n",
        "X_train = train_df['text']\n",
        "y_train = train_df['sentiment']\n",
        "X_val = val_df['text']\n",
        "y_val = val_df['sentiment']\n",
        "X_test = test_df['text']\n",
        "y_test = test_df['sentiment']"
      ]
    },
    {
      "cell_type": "markdown",
      "metadata": {
        "id": "4rulvcyeJyAP"
      },
      "source": [
        "🔢 **TF-IDF Vectorization**"
      ]
    },
    {
      "cell_type": "code",
      "execution_count": null,
      "metadata": {
        "id": "1IF37GCnJ6ie"
      },
      "outputs": [],
      "source": [
        "# -----------------------------\n",
        "# 2. TF-IDF Vectorization (for MNB, LR, SVM, KNN, XGBoost)\n",
        "# -----------------------------\n",
        "vectorizer = TfidfVectorizer(max_features=5000)\n",
        "X_train_tfidf = vectorizer.fit_transform(X_train)\n",
        "X_val_tfidf = vectorizer.transform(X_val)\n",
        "X_test_tfidf = vectorizer.transform(X_test)"
      ]
    },
    {
      "cell_type": "markdown",
      "metadata": {
        "id": "6RQvTZIMmjps"
      },
      "source": [
        "**🔤 Label Encoder**"
      ]
    },
    {
      "cell_type": "code",
      "execution_count": null,
      "metadata": {
        "id": "VF0u_yHNmbDl"
      },
      "outputs": [],
      "source": [
        "# Encode labels for XGBoost\n",
        "label_encoder = LabelEncoder()\n",
        "y_train_encoded = label_encoder.fit_transform(y_train)\n",
        "y_test_encoded = label_encoder.transform(y_test)\n",
        "y_val_encoded=label_encoder.transform(y_val)\n"
      ]
    },
    {
      "cell_type": "markdown",
      "metadata": {
        "id": "l-b6GQ6RnSyv"
      },
      "source": [
        "**🧊 One Hot Encoding**"
      ]
    },
    {
      "cell_type": "code",
      "execution_count": null,
      "metadata": {
        "id": "CuONdbBhnTFG"
      },
      "outputs": [],
      "source": [
        "# Convert to one-hot encoding\n",
        "y_train_cat = to_categorical(y_train_encoded, num_classes=len(label_encoder.classes_))\n",
        "y_val_cat = to_categorical(y_val_encoded, num_classes=len(label_encoder.classes_))\n",
        "y_test_cat = to_categorical(y_test_encoded, num_classes=len(label_encoder.classes_))\n"
      ]
    },
    {
      "cell_type": "markdown",
      "metadata": {
        "id": "qUDJbC6-nj6s"
      },
      "source": [
        "📄 **Tokenize Text**"
      ]
    },
    {
      "cell_type": "code",
      "execution_count": null,
      "metadata": {
        "id": "FgP-dlc4nkVL"
      },
      "outputs": [],
      "source": [
        "\n",
        "# Tokenize text\n",
        "tokenizer = Tokenizer(num_words=10000, oov_token=\"<OOV>\")\n",
        "tokenizer.fit_on_texts(X_train)\n",
        "X_train_seq = tokenizer.texts_to_sequences(X_train)\n",
        "X_val_seq = tokenizer.texts_to_sequences(X_val)\n",
        "X_test_seq = tokenizer.texts_to_sequences(X_test)\n"
      ]
    },
    {
      "cell_type": "markdown",
      "metadata": {
        "id": "ltUVs1yHoDX4"
      },
      "source": [
        "**📏 Pad Sequences**"
      ]
    },
    {
      "cell_type": "code",
      "execution_count": null,
      "metadata": {
        "id": "jIyDXXX3oGxF"
      },
      "outputs": [],
      "source": [
        "\n",
        "# Pad sequences\n",
        "max_len = 128\n",
        "X_train_pad = pad_sequences(X_train_seq, maxlen=max_len, padding='post', truncating='post')\n",
        "X_val_pad = pad_sequences(X_val_seq, maxlen=max_len, padding='post', truncating='post')\n",
        "X_test_pad = pad_sequences(X_test_seq, maxlen=max_len, padding='post', truncating='post')\n"
      ]
    },
    {
      "cell_type": "markdown",
      "metadata": {
        "id": "SJTSD3vXKFv_"
      },
      "source": [
        "# 🏋️‍♂️ **Training Models**"
      ]
    },
    {
      "cell_type": "markdown",
      "metadata": {
        "id": "bIrvtuRbKY-Z"
      },
      "source": [
        "🏹 **Multinomial Naive Bayes**"
      ]
    },
    {
      "cell_type": "code",
      "execution_count": null,
      "metadata": {
        "colab": {
          "base_uri": "https://localhost:8080/"
        },
        "id": "nbC1XPrvKcvM",
        "outputId": "fac5e4e0-0ad9-4890-a602-2172c43b0c76"
      },
      "outputs": [
        {
          "name": "stdout",
          "output_type": "stream",
          "text": [
            "\n",
            "=== Multinomial Naive Bayes ===\n",
            "Accuracy: 0.6367479961243724\n",
            "Macro F1: 0.6024568415840115\n",
            "              precision    recall  f1-score   support\n",
            "\n",
            "  Irrelevant       0.75      0.31      0.44      1988\n",
            "    Negative       0.62      0.80      0.70      3428\n",
            "     Neutral       0.66      0.54      0.59      2769\n",
            "    Positive       0.62      0.75      0.68      3168\n",
            "\n",
            "    accuracy                           0.64     11353\n",
            "   macro avg       0.66      0.60      0.60     11353\n",
            "weighted avg       0.65      0.64      0.62     11353\n",
            "\n"
          ]
        }
      ],
      "source": [
        "# Multinomial Naive Bayes\n",
        "print(\"\\n=== Multinomial Naive Bayes ===\")\n",
        "mnb = MultinomialNB()\n",
        "mnb.fit(X_train_tfidf, y_train)\n",
        "mnb_preds = mnb.predict(X_test_tfidf)\n",
        "print(\"Accuracy:\", accuracy_score(y_test, mnb_preds))\n",
        "print(\"Macro F1:\", f1_score(y_test, mnb_preds, average='macro'))\n",
        "print(classification_report(y_test, mnb_preds))"
      ]
    },
    {
      "cell_type": "markdown",
      "metadata": {
        "id": "td5_XqecKiwb"
      },
      "source": [
        "⚖️ **Logistic Regression**"
      ]
    },
    {
      "cell_type": "code",
      "execution_count": null,
      "metadata": {
        "colab": {
          "base_uri": "https://localhost:8080/"
        },
        "id": "T2sWS8YrKiY1",
        "outputId": "b81a5d89-5c08-4ad4-96f6-7b0b82fd3a90"
      },
      "outputs": [
        {
          "name": "stdout",
          "output_type": "stream",
          "text": [
            "\n",
            "=== Logistic Regression ===\n",
            "Accuracy: 0.6765612613406148\n",
            "Macro F1: 0.669337114262705\n",
            "              precision    recall  f1-score   support\n",
            "\n",
            "  Irrelevant       0.57      0.65      0.61      1988\n",
            "    Negative       0.75      0.71      0.73      3428\n",
            "     Neutral       0.63      0.64      0.63      2769\n",
            "    Positive       0.71      0.69      0.70      3168\n",
            "\n",
            "    accuracy                           0.68     11353\n",
            "   macro avg       0.67      0.67      0.67     11353\n",
            "weighted avg       0.68      0.68      0.68     11353\n",
            "\n"
          ]
        }
      ],
      "source": [
        "# Logistic Regression\n",
        "print(\"\\n=== Logistic Regression ===\")\n",
        "lr = LogisticRegression(max_iter=1000, class_weight='balanced')\n",
        "lr.fit(X_train_tfidf, y_train)\n",
        "lr_preds = lr.predict(X_test_tfidf)\n",
        "print(\"Accuracy:\", accuracy_score(y_test, lr_preds))\n",
        "print(\"Macro F1:\", f1_score(y_test, lr_preds, average='macro'))\n",
        "print(classification_report(y_test, lr_preds))"
      ]
    },
    {
      "cell_type": "markdown",
      "metadata": {
        "id": "O1_Zrsf1Kq0T"
      },
      "source": [
        "🛡️ **Support Vector Machine**"
      ]
    },
    {
      "cell_type": "code",
      "execution_count": null,
      "metadata": {
        "colab": {
          "base_uri": "https://localhost:8080/"
        },
        "id": "pR6e20tdKrCm",
        "outputId": "7cd0cc57-30f7-46e0-9580-7f55d8296ff0"
      },
      "outputs": [
        {
          "name": "stdout",
          "output_type": "stream",
          "text": [
            "\n",
            "=== Support Vector Machine ===\n",
            "Accuracy: 0.7005196864264952\n",
            "Macro F1: 0.6919645449041245\n",
            "              precision    recall  f1-score   support\n",
            "\n",
            "  Irrelevant       0.63      0.64      0.63      1988\n",
            "    Negative       0.77      0.75      0.76      3428\n",
            "     Neutral       0.68      0.65      0.67      2769\n",
            "    Positive       0.69      0.73      0.71      3168\n",
            "\n",
            "    accuracy                           0.70     11353\n",
            "   macro avg       0.69      0.69      0.69     11353\n",
            "weighted avg       0.70      0.70      0.70     11353\n",
            "\n"
          ]
        }
      ],
      "source": [
        "# Support Vector Machine\n",
        "print(\"\\n=== Support Vector Machine ===\")\n",
        "svm = LinearSVC(class_weight='balanced')\n",
        "svm.fit(X_train_tfidf, y_train)\n",
        "svm_preds = svm.predict(X_test_tfidf)\n",
        "print(\"Accuracy:\", accuracy_score(y_test, svm_preds))\n",
        "print(\"Macro F1:\", f1_score(y_test, svm_preds, average='macro'))\n",
        "print(classification_report(y_test, svm_preds))"
      ]
    },
    {
      "cell_type": "markdown",
      "metadata": {
        "id": "CdSy7cJUK2cq"
      },
      "source": [
        "🗺️**K-Nearest Neighbors**"
      ]
    },
    {
      "cell_type": "code",
      "execution_count": null,
      "metadata": {
        "colab": {
          "base_uri": "https://localhost:8080/"
        },
        "id": "ESCYDyykK3vV",
        "outputId": "53fd2b5a-8403-42d8-accb-50af0f09fa7e"
      },
      "outputs": [
        {
          "name": "stdout",
          "output_type": "stream",
          "text": [
            "\n",
            "=== Training KNN ===\n",
            "Accuracy: 0.8596846648462961\n",
            "Macro F1: 0.8567740472146581\n",
            "              precision    recall  f1-score   support\n",
            "\n",
            "  Irrelevant       0.79      0.87      0.83      1988\n",
            "    Negative       0.86      0.88      0.87      3428\n",
            "     Neutral       0.88      0.85      0.86      2769\n",
            "    Positive       0.89      0.84      0.87      3168\n",
            "\n",
            "    accuracy                           0.86     11353\n",
            "   macro avg       0.86      0.86      0.86     11353\n",
            "weighted avg       0.86      0.86      0.86     11353\n",
            "\n"
          ]
        }
      ],
      "source": [
        "# K-Nearest Neighbors\n",
        "print(\"\\n=== Training KNN ===\")\n",
        "knn = KNeighborsClassifier(n_neighbors=5)\n",
        "knn.fit(X_train_tfidf, y_train)\n",
        "knn_preds = knn.predict(X_test_tfidf)\n",
        "print(\"Accuracy:\", accuracy_score(y_test, knn_preds))\n",
        "print(\"Macro F1:\", f1_score(y_test, knn_preds, average='macro'))\n",
        "print(classification_report(y_test, knn_preds))"
      ]
    },
    {
      "cell_type": "markdown",
      "metadata": {
        "id": "fyiTDBG4K7CL"
      },
      "source": [
        "🌳 **XGBoost**"
      ]
    },
    {
      "cell_type": "code",
      "execution_count": null,
      "metadata": {
        "colab": {
          "base_uri": "https://localhost:8080/"
        },
        "id": "i2VA1-zjK-Bt",
        "outputId": "45524a2e-cebf-4f46-80b0-37f83e00d981"
      },
      "outputs": [
        {
          "name": "stdout",
          "output_type": "stream",
          "text": [
            "\n",
            "=== Training XGBoost ===\n"
          ]
        },
        {
          "name": "stderr",
          "output_type": "stream",
          "text": [
            "/usr/local/lib/python3.11/dist-packages/xgboost/core.py:158: UserWarning: [12:59:47] WARNING: /workspace/src/learner.cc:740: \n",
            "Parameters: { \"use_label_encoder\" } are not used.\n",
            "\n",
            "  warnings.warn(smsg, UserWarning)\n"
          ]
        },
        {
          "name": "stdout",
          "output_type": "stream",
          "text": [
            "XGBoost Accuracy: 0.6537479080419273\n",
            "XGBoost Macro F1: 0.6267418894177214\n",
            "              precision    recall  f1-score   support\n",
            "\n",
            "  Irrelevant       0.74      0.37      0.49      1988\n",
            "    Negative       0.60      0.85      0.70      3428\n",
            "     Neutral       0.71      0.56      0.63      2769\n",
            "    Positive       0.67      0.71      0.69      3168\n",
            "\n",
            "    accuracy                           0.65     11353\n",
            "   macro avg       0.68      0.62      0.63     11353\n",
            "weighted avg       0.67      0.65      0.64     11353\n",
            "\n"
          ]
        }
      ],
      "source": [
        "\n",
        "# Train XGBoost\n",
        "print(\"\\n=== Training XGBoost ===\")\n",
        "xgb = XGBClassifier(\n",
        "    use_label_encoder=False,\n",
        "    eval_metric='mlogloss',\n",
        "    random_state=42,\n",
        "    enable_categorical=False\n",
        ")\n",
        "xgb.fit(X_train_tfidf, y_train_encoded)\n",
        "xgb_preds_encoded = xgb.predict(X_test_tfidf)\n",
        "xgb_preds = label_encoder.inverse_transform(xgb_preds_encoded)\n",
        "\n",
        "# Evaluate\n",
        "print(\"XGBoost Accuracy:\", accuracy_score(y_test, xgb_preds))\n",
        "print(\"XGBoost Macro F1:\", f1_score(y_test, xgb_preds, average='macro'))\n",
        "print(classification_report(y_test, xgb_preds))"
      ]
    },
    {
      "cell_type": "markdown",
      "metadata": {
        "id": "E7II_nDtLC6x"
      },
      "source": [
        "🗳️ **Ensemble Learning (Hard Voting)**"
      ]
    },
    {
      "cell_type": "code",
      "execution_count": null,
      "metadata": {
        "colab": {
          "base_uri": "https://localhost:8080/"
        },
        "id": "6X-yTPwjLGuA",
        "outputId": "0f9d140b-741d-454a-dadc-394ab9a093e5"
      },
      "outputs": [
        {
          "name": "stderr",
          "output_type": "stream",
          "text": [
            "/usr/local/lib/python3.11/dist-packages/xgboost/core.py:158: UserWarning: [13:01:54] WARNING: /workspace/src/learner.cc:740: \n",
            "Parameters: { \"use_label_encoder\" } are not used.\n",
            "\n",
            "  warnings.warn(smsg, UserWarning)\n"
          ]
        },
        {
          "name": "stdout",
          "output_type": "stream",
          "text": [
            "Ensemble (Hard Voting) Accuracy: 0.7364573240553157\n",
            "Ensemble (Hard Voting) Macro F1: 0.727194733869694\n",
            "              precision    recall  f1-score   support\n",
            "\n",
            "  Irrelevant       0.71      0.65      0.68      1988\n",
            "    Negative       0.74      0.83      0.78      3428\n",
            "     Neutral       0.73      0.66      0.69      2769\n",
            "    Positive       0.75      0.76      0.75      3168\n",
            "\n",
            "    accuracy                           0.74     11353\n",
            "   macro avg       0.73      0.72      0.73     11353\n",
            "weighted avg       0.74      0.74      0.73     11353\n",
            "\n"
          ]
        }
      ],
      "source": [
        "# Ensemble Learning (Hard Voting)\n",
        "updated_voting_clf = VotingClassifier(\n",
        "    estimators=[\n",
        "        ('mnb', mnb),\n",
        "        ('lr', lr),\n",
        "        ('svm', svm),\n",
        "        ('knn', knn),\n",
        "        ('xgb', xgb)\n",
        "    ],\n",
        "    voting='hard'\n",
        ")\n",
        "\n",
        "# Refit and evaluate\n",
        "updated_voting_clf.fit(X_train_tfidf, y_train_encoded)\n",
        "ensemble_preds_encoded = updated_voting_clf.predict(X_test_tfidf)\n",
        "ensemble_preds = label_encoder.inverse_transform(ensemble_preds_encoded)\n",
        "\n",
        "print(\"Ensemble (Hard Voting) Accuracy:\", accuracy_score(y_test, ensemble_preds))\n",
        "print(\"Ensemble (Hard Voting) Macro F1:\", f1_score(y_test, ensemble_preds, average='macro'))\n",
        "print(classification_report(y_test, ensemble_preds))"
      ]
    },
    {
      "cell_type": "markdown",
      "metadata": {
        "id": "HfL5suHyLODi"
      },
      "source": [
        "⚖️ **Ensemble Learning (Soft Voting)**"
      ]
    },
    {
      "cell_type": "code",
      "execution_count": null,
      "metadata": {
        "colab": {
          "base_uri": "https://localhost:8080/"
        },
        "id": "ApdQ_7slLP9V",
        "outputId": "30d98004-c235-4474-e99c-00d05add7e67"
      },
      "outputs": [
        {
          "name": "stderr",
          "output_type": "stream",
          "text": [
            "/usr/local/lib/python3.11/dist-packages/xgboost/core.py:158: UserWarning: [13:04:11] WARNING: /workspace/src/learner.cc:740: \n",
            "Parameters: { \"use_label_encoder\" } are not used.\n",
            "\n",
            "  warnings.warn(smsg, UserWarning)\n"
          ]
        },
        {
          "name": "stdout",
          "output_type": "stream",
          "text": [
            "Ensemble (Soft Voting) Accuracy: 0.8771249889896944\n",
            "Ensemble (Soft Voting) Macro F1: 0.8737705842928059\n",
            "              precision    recall  f1-score   support\n",
            "\n",
            "  Irrelevant       0.85      0.84      0.85      1988\n",
            "    Negative       0.88      0.90      0.89      3428\n",
            "     Neutral       0.90      0.86      0.88      2769\n",
            "    Positive       0.87      0.90      0.88      3168\n",
            "\n",
            "    accuracy                           0.88     11353\n",
            "   macro avg       0.88      0.87      0.87     11353\n",
            "weighted avg       0.88      0.88      0.88     11353\n",
            "\n"
          ]
        }
      ],
      "source": [
        "# Ensemble Learning (Soft Voting)\n",
        "updated_voting_clf = VotingClassifier(\n",
        "    estimators=[\n",
        "        ('mnb', mnb),\n",
        "        ('lr', lr),\n",
        "        ('knn', knn),\n",
        "        ('xgb', xgb)\n",
        "    ],\n",
        "    voting='soft',\n",
        "    weights=[1, 2, 4, 1]\n",
        ")\n",
        "\n",
        "# Refit and evaluate\n",
        "updated_voting_clf.fit(X_train_tfidf, y_train_encoded)\n",
        "ensemble_preds_encoded = updated_voting_clf.predict(X_test_tfidf)\n",
        "ensemble_preds_soft = label_encoder.inverse_transform(ensemble_preds_encoded)\n",
        "\n",
        "print(\"Ensemble (Soft Voting) Accuracy:\", accuracy_score(y_test, ensemble_preds_soft))\n",
        "print(\"Ensemble (Soft Voting) Macro F1:\", f1_score(y_test, ensemble_preds_soft, average='macro'))\n",
        "print(classification_report(y_test, ensemble_preds_soft))"
      ]
    },
    {
      "cell_type": "markdown",
      "metadata": {
        "id": "jZ6anIbzLa_4"
      },
      "source": [
        "🔄 **Prepare and Train LSTM**"
      ]
    },
    {
      "cell_type": "code",
      "execution_count": null,
      "metadata": {
        "colab": {
          "base_uri": "https://localhost:8080/"
        },
        "id": "uXL4U5C-Ld7m",
        "outputId": "f329a6b0-4d25-48a5-8e96-52194de5d1a5"
      },
      "outputs": [
        {
          "name": "stderr",
          "output_type": "stream",
          "text": [
            "/usr/local/lib/python3.11/dist-packages/keras/src/layers/core/embedding.py:90: UserWarning: Argument `input_length` is deprecated. Just remove it.\n",
            "  warnings.warn(\n"
          ]
        },
        {
          "name": "stdout",
          "output_type": "stream",
          "text": [
            "\n",
            "=== Training Improved LSTM Model ===\n",
            "Epoch 1/20\n",
            "\u001b[1m1656/1656\u001b[0m \u001b[32m━━━━━━━━━━━━━━━━━━━━\u001b[0m\u001b[37m\u001b[0m \u001b[1m740s\u001b[0m 443ms/step - accuracy: 0.5124 - loss: 1.1131 - val_accuracy: 0.7215 - val_loss: 0.7251\n",
            "Epoch 2/20\n",
            "\u001b[1m1656/1656\u001b[0m \u001b[32m━━━━━━━━━━━━━━━━━━━━\u001b[0m\u001b[37m\u001b[0m \u001b[1m733s\u001b[0m 438ms/step - accuracy: 0.7821 - loss: 0.5848 - val_accuracy: 0.7826 - val_loss: 0.5790\n",
            "Epoch 3/20\n",
            "\u001b[1m1656/1656\u001b[0m \u001b[32m━━━━━━━━━━━━━━━━━━━━\u001b[0m\u001b[37m\u001b[0m \u001b[1m744s\u001b[0m 439ms/step - accuracy: 0.8515 - loss: 0.4036 - val_accuracy: 0.8113 - val_loss: 0.5201\n",
            "Epoch 4/20\n",
            "\u001b[1m1656/1656\u001b[0m \u001b[32m━━━━━━━━━━━━━━━━━━━━\u001b[0m\u001b[37m\u001b[0m \u001b[1m786s\u001b[0m 475ms/step - accuracy: 0.8811 - loss: 0.3156 - val_accuracy: 0.8221 - val_loss: 0.5095\n",
            "Epoch 5/20\n",
            "\u001b[1m1656/1656\u001b[0m \u001b[32m━━━━━━━━━━━━━━━━━━━━\u001b[0m\u001b[37m\u001b[0m \u001b[1m778s\u001b[0m 470ms/step - accuracy: 0.8997 - loss: 0.2593 - val_accuracy: 0.8298 - val_loss: 0.5077\n",
            "Epoch 6/20\n",
            "\u001b[1m1656/1656\u001b[0m \u001b[32m━━━━━━━━━━━━━━━━━━━━\u001b[0m\u001b[37m\u001b[0m \u001b[1m794s\u001b[0m 465ms/step - accuracy: 0.9154 - loss: 0.2192 - val_accuracy: 0.8317 - val_loss: 0.5177\n",
            "Epoch 7/20\n",
            "\u001b[1m1656/1656\u001b[0m \u001b[32m━━━━━━━━━━━━━━━━━━━━\u001b[0m\u001b[37m\u001b[0m \u001b[1m767s\u001b[0m 444ms/step - accuracy: 0.9248 - loss: 0.1948 - val_accuracy: 0.8436 - val_loss: 0.5254\n",
            "Epoch 8/20\n",
            "\u001b[1m1656/1656\u001b[0m \u001b[32m━━━━━━━━━━━━━━━━━━━━\u001b[0m\u001b[37m\u001b[0m \u001b[1m728s\u001b[0m 436ms/step - accuracy: 0.9310 - loss: 0.1713 - val_accuracy: 0.8413 - val_loss: 0.5686\n",
            "\n",
            "=== LSTM Model Evaluation ===\n",
            "LSTM Accuracy: 0.8229542970657349\n",
            "\u001b[1m355/355\u001b[0m \u001b[32m━━━━━━━━━━━━━━━━━━━━\u001b[0m\u001b[37m\u001b[0m \u001b[1m43s\u001b[0m 120ms/step\n",
            "Macro F1: 0.8186028999170285\n",
            "              precision    recall  f1-score   support\n",
            "\n",
            "  Irrelevant       0.84      0.74      0.79      1988\n",
            "    Negative       0.83      0.85      0.84      3428\n",
            "     Neutral       0.79      0.83      0.81      2769\n",
            "    Positive       0.83      0.83      0.83      3168\n",
            "\n",
            "    accuracy                           0.82     11353\n",
            "   macro avg       0.82      0.82      0.82     11353\n",
            "weighted avg       0.82      0.82      0.82     11353\n",
            "\n"
          ]
        }
      ],
      "source": [
        "# -----------------------------\n",
        "# 6. Build and Train LSTM Model\n",
        "# -----------------------------\n",
        "\n",
        "model = Sequential([\n",
        "    Embedding(input_dim=10000, output_dim=128, input_length=max_len),\n",
        "    Bidirectional(LSTM(128, return_sequences=False)),\n",
        "    Dropout(0.6),\n",
        "    Dense(64, activation='relu'),\n",
        "    Dense(len(label_encoder.classes_), activation='softmax')\n",
        "])\n",
        "\n",
        "model.compile(loss='categorical_crossentropy', optimizer='adam', metrics=['accuracy'])\n",
        "\n",
        "# Early stopping\n",
        "early_stop = EarlyStopping(monitor='val_loss', patience=3, restore_best_weights=True)\n",
        "\n",
        "# Train\n",
        "print(\"\\n=== Training Improved LSTM Model ===\")\n",
        "history = model.fit(\n",
        "    X_train_pad, y_train_cat,\n",
        "    validation_data=(X_val_pad, y_val_cat),\n",
        "    epochs=20,\n",
        "    batch_size=32,\n",
        "    callbacks=[early_stop],\n",
        "    verbose=1\n",
        ")\n",
        "\n",
        "# Evaluate LSTM\n",
        "print(\"\\n=== LSTM Model Evaluation ===\")\n",
        "loss, acc = model.evaluate(X_test_pad, y_test_cat, verbose=0)\n",
        "print(\"LSTM Accuracy:\", acc)\n",
        "\n",
        "# Predict\n",
        "y_pred_lstm = model.predict(X_test_pad)\n",
        "y_pred_classes = np.argmax(y_pred_lstm, axis=1)\n",
        "y_pred_labels = label_encoder.inverse_transform(y_pred_classes)\n",
        "\n",
        "# Report\n",
        "print(\"Macro F1:\", f1_score(y_test, y_pred_labels, average='macro'))\n",
        "print(classification_report(y_test, y_pred_labels))"
      ]
    },
    {
      "cell_type": "markdown",
      "metadata": {
        "id": "DUzUylGbeqoV"
      },
      "source": [
        "**🧩 Build and Train CNN Model**"
      ]
    },
    {
      "cell_type": "code",
      "execution_count": null,
      "metadata": {
        "colab": {
          "base_uri": "https://localhost:8080/"
        },
        "id": "7ktFJ93yBBY6",
        "outputId": "947a1a0a-ca62-4ff9-9f07-b311a1a97926"
      },
      "outputs": [
        {
          "name": "stdout",
          "output_type": "stream",
          "text": [
            "\n",
            "=== Training CNN Model ===\n",
            "Epoch 1/20\n",
            "\u001b[1m1656/1656\u001b[0m \u001b[32m━━━━━━━━━━━━━━━━━━━━\u001b[0m\u001b[37m\u001b[0m \u001b[1m117s\u001b[0m 70ms/step - accuracy: 0.5151 - loss: 1.1243 - val_accuracy: 0.7610 - val_loss: 0.6299\n",
            "Epoch 2/20\n",
            "\u001b[1m1656/1656\u001b[0m \u001b[32m━━━━━━━━━━━━━━━━━━━━\u001b[0m\u001b[37m\u001b[0m \u001b[1m104s\u001b[0m 63ms/step - accuracy: 0.8363 - loss: 0.4607 - val_accuracy: 0.8347 - val_loss: 0.4522\n",
            "Epoch 3/20\n",
            "\u001b[1m1656/1656\u001b[0m \u001b[32m━━━━━━━━━━━━━━━━━━━━\u001b[0m\u001b[37m\u001b[0m \u001b[1m149s\u001b[0m 67ms/step - accuracy: 0.9175 - loss: 0.2248 - val_accuracy: 0.8486 - val_loss: 0.4350\n",
            "Epoch 4/20\n",
            "\u001b[1m1656/1656\u001b[0m \u001b[32m━━━━━━━━━━━━━━━━━━━━\u001b[0m\u001b[37m\u001b[0m \u001b[1m135s\u001b[0m 63ms/step - accuracy: 0.9393 - loss: 0.1554 - val_accuracy: 0.8591 - val_loss: 0.4715\n",
            "Epoch 5/20\n",
            "\u001b[1m1656/1656\u001b[0m \u001b[32m━━━━━━━━━━━━━━━━━━━━\u001b[0m\u001b[37m\u001b[0m \u001b[1m146s\u001b[0m 65ms/step - accuracy: 0.9482 - loss: 0.1273 - val_accuracy: 0.8536 - val_loss: 0.5125\n",
            "Epoch 6/20\n",
            "\u001b[1m1656/1656\u001b[0m \u001b[32m━━━━━━━━━━━━━━━━━━━━\u001b[0m\u001b[37m\u001b[0m \u001b[1m139s\u001b[0m 63ms/step - accuracy: 0.9528 - loss: 0.1157 - val_accuracy: 0.8584 - val_loss: 0.5663\n",
            "\n",
            "=== CNN Model Evaluation ===\n",
            "CNN Accuracy: 0.845943808555603\n",
            "\u001b[1m355/355\u001b[0m \u001b[32m━━━━━━━━━━━━━━━━━━━━\u001b[0m\u001b[37m\u001b[0m \u001b[1m5s\u001b[0m 15ms/step\n",
            "Macro F1 (CNN): 0.8422038916056965\n",
            "              precision    recall  f1-score   support\n",
            "\n",
            "  Irrelevant       0.79      0.84      0.81      1988\n",
            "    Negative       0.91      0.84      0.87      3428\n",
            "     Neutral       0.79      0.87      0.83      2769\n",
            "    Positive       0.88      0.84      0.86      3168\n",
            "\n",
            "    accuracy                           0.85     11353\n",
            "   macro avg       0.84      0.85      0.84     11353\n",
            "weighted avg       0.85      0.85      0.85     11353\n",
            "\n"
          ]
        }
      ],
      "source": [
        "# -----------------------------\n",
        "# 7. Build and Train CNN Model\n",
        "# -----------------------------\n",
        "print(\"\\n=== Training CNN Model ===\")\n",
        "\n",
        "model_cnn = Sequential([\n",
        "    Embedding(input_dim=10000, output_dim=128, input_length=max_len),\n",
        "    # Use Conv1D layer for text classification\n",
        "    tf.keras.layers.Conv1D(128, 5, activation='relu'),\n",
        "    tf.keras.layers.GlobalMaxPooling1D(),\n",
        "    Dense(64, activation='relu'),\n",
        "    Dropout(0.5),\n",
        "    Dense(len(label_encoder.classes_), activation='softmax')\n",
        "])\n",
        "\n",
        "model_cnn.compile(loss='categorical_crossentropy', optimizer='adam', metrics=['accuracy'])\n",
        "\n",
        "# Early stopping\n",
        "early_stop_cnn = EarlyStopping(monitor='val_loss', patience=3, restore_best_weights=True)\n",
        "\n",
        "# Train CNN\n",
        "history_cnn = model_cnn.fit(\n",
        "    X_train_pad, y_train_cat,\n",
        "    validation_data=(X_val_pad, y_val_cat),\n",
        "    epochs=20,\n",
        "    batch_size=32,\n",
        "    callbacks=[early_stop_cnn],\n",
        "    verbose=1\n",
        ")\n",
        "\n",
        "# Evaluate CNN\n",
        "print(\"\\n=== CNN Model Evaluation ===\")\n",
        "loss_cnn, acc_cnn = model_cnn.evaluate(X_test_pad, y_test_cat, verbose=0)\n",
        "print(\"CNN Accuracy:\", acc_cnn)\n",
        "\n",
        "# Predict CNN outputs\n",
        "y_pred_cnn = model_cnn.predict(X_test_pad)\n",
        "y_pred_classes_cnn = np.argmax(y_pred_cnn, axis=1)\n",
        "y_pred_labels_cnn = label_encoder.inverse_transform(y_pred_classes_cnn)\n",
        "\n",
        "# Classification Report\n",
        "print(\"Macro F1 (CNN):\", f1_score(y_test, y_pred_labels_cnn, average='macro'))\n",
        "print(classification_report(y_test, y_pred_labels_cnn))"
      ]
    },
    {
      "cell_type": "markdown",
      "metadata": {
        "id": "cCpuG28qfNz0"
      },
      "source": [
        "**🤹 Stacking Ensemble**"
      ]
    },
    {
      "cell_type": "code",
      "execution_count": null,
      "metadata": {
        "colab": {
          "base_uri": "https://localhost:8080/"
        },
        "id": "9VC0B4hqjSPJ",
        "outputId": "24c8fc52-a067-4f27-d545-ee2045328665"
      },
      "outputs": [
        {
          "name": "stdout",
          "output_type": "stream",
          "text": [
            "\n",
            "=== Stacking Ensemble  ===\n"
          ]
        },
        {
          "name": "stderr",
          "output_type": "stream",
          "text": [
            "/usr/local/lib/python3.11/dist-packages/xgboost/core.py:158: UserWarning: [15:10:35] WARNING: /workspace/src/learner.cc:740: \n",
            "Parameters: { \"use_label_encoder\" } are not used.\n",
            "\n",
            "  warnings.warn(smsg, UserWarning)\n",
            "/usr/local/lib/python3.11/dist-packages/xgboost/core.py:158: UserWarning: [15:10:59] WARNING: /workspace/src/learner.cc:740: \n",
            "Parameters: { \"use_label_encoder\" } are not used.\n",
            "\n",
            "  warnings.warn(smsg, UserWarning)\n",
            "/usr/local/lib/python3.11/dist-packages/xgboost/core.py:158: UserWarning: [15:11:01] WARNING: /workspace/src/learner.cc:740: \n",
            "Parameters: { \"use_label_encoder\" } are not used.\n",
            "\n",
            "  warnings.warn(smsg, UserWarning)\n",
            "/usr/local/lib/python3.11/dist-packages/xgboost/core.py:158: UserWarning: [15:11:05] WARNING: /workspace/src/learner.cc:740: \n",
            "Parameters: { \"use_label_encoder\" } are not used.\n",
            "\n",
            "  warnings.warn(smsg, UserWarning)\n",
            "/usr/local/lib/python3.11/dist-packages/xgboost/core.py:158: UserWarning: [15:11:06] WARNING: /workspace/src/learner.cc:740: \n",
            "Parameters: { \"use_label_encoder\" } are not used.\n",
            "\n",
            "  warnings.warn(smsg, UserWarning)\n",
            "/usr/local/lib/python3.11/dist-packages/xgboost/core.py:158: UserWarning: [15:11:08] WARNING: /workspace/src/learner.cc:740: \n",
            "Parameters: { \"use_label_encoder\" } are not used.\n",
            "\n",
            "  warnings.warn(smsg, UserWarning)\n"
          ]
        },
        {
          "name": "stdout",
          "output_type": "stream",
          "text": [
            "Stacking Ensemble Accuracy: 0.8588038403946093\n",
            "Stacking Ensemble Macro F1: 0.856538085505268\n",
            "              precision    recall  f1-score   support\n",
            "\n",
            "  Irrelevant       0.86      0.82      0.84      1988\n",
            "    Negative       0.87      0.87      0.87      3428\n",
            "     Neutral       0.85      0.85      0.85      2769\n",
            "    Positive       0.85      0.88      0.86      3168\n",
            "\n",
            "    accuracy                           0.86     11353\n",
            "   macro avg       0.86      0.85      0.86     11353\n",
            "weighted avg       0.86      0.86      0.86     11353\n",
            "\n"
          ]
        }
      ],
      "source": [
        "# Stacking Ensemble\n",
        "print(\"\\n=== Stacking Ensemble  ===\")\n",
        "stacking_clf = StackingClassifier(\n",
        "    estimators=[\n",
        "        ('mnb', mnb),\n",
        "        ('lr', lr),\n",
        "        ('svm', svm),\n",
        "        ('knn', knn),\n",
        "        ('xgb', xgb)\n",
        "        # LSTM is not included as an estimator due to different input format; its predictions are used instead\n",
        "    ],\n",
        "    final_estimator=LogisticRegression(max_iter=1000),\n",
        "    passthrough=False\n",
        ")\n",
        "\n",
        "# Create stacking_X_train with numerical predictions\n",
        "stacking_X_train = np.column_stack([\n",
        "    mnb.predict(X_train_tfidf),  # String labels\n",
        "    lr.predict(X_train_tfidf),   # String labels\n",
        "    svm.predict(X_train_tfidf),  # String labels\n",
        "    knn.predict(X_train_tfidf),  # String labels\n",
        "    xgb.predict(X_train_tfidf),  # Numerical labels (encoded)\n",
        "    np.argmax(model.predict(X_train_pad, verbose=0), axis=1)  # Numerical labels (encoded)\n",
        "])\n",
        "\n",
        "# Since mnb, lr, svm, and knn predict string labels, we need to encode them to numerical values\n",
        "# Create a new LabelEncoder for the predictions (or reuse the existing one)\n",
        "pred_encoder = LabelEncoder()\n",
        "# Fit on all possible string labels from y_train\n",
        "pred_encoder.fit(y_train)\n",
        "\n",
        "# Transform string predictions to numerical\n",
        "stacking_X_train[:, 0] = pred_encoder.transform(stacking_X_train[:, 0])  # mnb\n",
        "stacking_X_train[:, 1] = pred_encoder.transform(stacking_X_train[:, 1])  # lr\n",
        "stacking_X_train[:, 2] = pred_encoder.transform(stacking_X_train[:, 2])  # svm\n",
        "stacking_X_train[:, 3] = pred_encoder.transform(stacking_X_train[:, 3])  # knn\n",
        "# XGBoost and LSTM are already numerical, so no transformation needed for columns 4 and 5\n",
        "\n",
        "# Fit stacking classifier using numerical features and encoded y_train\n",
        "stacking_clf.fit(stacking_X_train, y_train_encoded)\n",
        "\n",
        "# Create test predictions for stacking\n",
        "test_preds = np.column_stack([\n",
        "    mnb_preds,\n",
        "    lr_preds,\n",
        "    svm_preds,\n",
        "    knn_preds,\n",
        "    xgb_preds_encoded,  # Use encoded XGBoost predictions\n",
        "    np.argmax(y_pred_lstm, axis=1)  # Use encoded LSTM predictions\n",
        "])\n",
        "\n",
        "# Transform string predictions to numerical for test_preds\n",
        "test_preds[:, 0] = pred_encoder.transform(test_preds[:, 0])  # mnb\n",
        "test_preds[:, 1] = pred_encoder.transform(test_preds[:, 1])  # lr\n",
        "test_preds[:, 2] = pred_encoder.transform(test_preds[:, 2])  # svm\n",
        "test_preds[:, 3] = pred_encoder.transform(test_preds[:, 3])  # knn\n",
        "# XGBoost and LSTM are already numerical\n",
        "\n",
        "# Predict using test predictions as features\n",
        "stacking_preds_encoded = stacking_clf.predict(test_preds)\n",
        "stacking_preds = label_encoder.inverse_transform(stacking_preds_encoded)\n",
        "\n",
        "print(\"Stacking Ensemble Accuracy:\", accuracy_score(y_test, stacking_preds))\n",
        "print(\"Stacking Ensemble Macro F1:\", f1_score(y_test, stacking_preds, average='macro'))\n",
        "print(classification_report(y_test, stacking_preds))"
      ]
    },
    {
      "cell_type": "markdown",
      "metadata": {
        "id": "TUyhd_8TfhVw"
      },
      "source": [
        "**🏗️ Soft voting (LSTM and CNN)**"
      ]
    },
    {
      "cell_type": "code",
      "execution_count": null,
      "metadata": {
        "colab": {
          "base_uri": "https://localhost:8080/"
        },
        "id": "FzhcdeksBlw-",
        "outputId": "649768a4-90e5-41cd-e62e-c3c812589c37"
      },
      "outputs": [
        {
          "name": "stdout",
          "output_type": "stream",
          "text": [
            "\n",
            "=== CNN + LSTM Soft Voting Ensemble ===\n",
            "Ensemble Accuracy (CNN+LSTM): 0.8612701488593323\n",
            "Ensemble Macro F1 (CNN+LSTM): 0.858129028293452\n",
            "              precision    recall  f1-score   support\n",
            "\n",
            "  Irrelevant       0.85      0.82      0.84      1988\n",
            "    Negative       0.89      0.87      0.88      3428\n",
            "     Neutral       0.82      0.88      0.85      2769\n",
            "    Positive       0.88      0.86      0.87      3168\n",
            "\n",
            "    accuracy                           0.86     11353\n",
            "   macro avg       0.86      0.86      0.86     11353\n",
            "weighted avg       0.86      0.86      0.86     11353\n",
            "\n"
          ]
        }
      ],
      "source": [
        "# Get softmax probabilities for stacking or soft voting\n",
        "lstm_probs = softmax(y_pred_lstm, axis=1)\n",
        "cnn_probs = softmax(y_pred_cnn, axis=1)\n",
        "\n",
        "# Combine predictions using soft voting (average probabilities)\n",
        "combined_probs = (lstm_probs + cnn_probs) / 2\n",
        "final_preds = np.argmax(combined_probs, axis=1)\n",
        "final_labels = label_encoder.inverse_transform(final_preds)\n",
        "\n",
        "# Evaluate ensemble\n",
        "print(\"\\n=== CNN + LSTM Soft Voting Ensemble ===\")\n",
        "print(\"Ensemble Accuracy (CNN+LSTM):\", accuracy_score(y_test, final_labels))\n",
        "print(\"Ensemble Macro F1 (CNN+LSTM):\", f1_score(y_test, final_labels, average='macro'))\n",
        "print(classification_report(y_test, final_labels))"
      ]
    },
    {
      "cell_type": "markdown",
      "metadata": {
        "id": "-UdVSPqlLhRb"
      },
      "source": [
        "# 🏆 **Results**"
      ]
    },
    {
      "cell_type": "code",
      "execution_count": null,
      "metadata": {
        "colab": {
          "base_uri": "https://localhost:8080/"
        },
        "id": "lJuR8i33LsuW",
        "outputId": "f8a15107-abca-4de5-eb3c-382eddf4d522"
      },
      "outputs": [
        {
          "name": "stdout",
          "output_type": "stream",
          "text": [
            "\n",
            "=== Updated Model Accuracy Scores ===\n",
            "Multinomial Naive Bayes: 0.6367\n",
            "Logistic Regression: 0.6766\n",
            "Support Vector Machine: 0.7005\n",
            "K-Nearest Neighbors: 0.8597\n",
            "XGBoost: 0.6537\n",
            "Ensemble (Hard Voting): 0.7365\n",
            "Ensemble (Soft Voting): 0.8771\n",
            "Stacking Ensemble: 0.8588\n",
            "LSTM: 0.8230\n",
            "CNN: 0.8459\n",
            "CNN + LSTM Ensemble: 0.8613\n",
            "\n",
            "=== Updated Model Macro F1 Scores ===\n",
            "Multinomial Naive Bayes: 0.6025\n",
            "Logistic Regression: 0.6693\n",
            "Support Vector Machine: 0.6920\n",
            "K-Nearest Neighbors: 0.8568\n",
            "XGBoost: 0.6267\n",
            "Ensemble (Hard Voting): 0.7272\n",
            "Ensemble (Soft Voting): 0.8738\n",
            "Stacking Ensemble: 0.8565\n",
            "LSTM: 0.8186\n",
            "CNN: 0.8422\n",
            "CNN + LSTM Ensemble: 0.8581\n"
          ]
        }
      ],
      "source": [
        "# Update the results printing section to include CNN and CNN-LSTM ensemble\n",
        "print(\"\\n=== Updated Model Accuracy Scores ===\")\n",
        "print(f\"Multinomial Naive Bayes: {accuracy_score(y_test, mnb_preds):.4f}\")\n",
        "print(f\"Logistic Regression: {accuracy_score(y_test, lr_preds):.4f}\")\n",
        "print(f\"Support Vector Machine: {accuracy_score(y_test, svm_preds):.4f}\")\n",
        "print(f\"K-Nearest Neighbors: {accuracy_score(y_test, knn_preds):.4f}\")\n",
        "print(f\"XGBoost: {accuracy_score(y_test, xgb_preds):.4f}\")\n",
        "print(f\"Ensemble (Hard Voting): {accuracy_score(y_test, ensemble_preds):.4f}\")\n",
        "print(f\"Ensemble (Soft Voting): {accuracy_score(y_test, ensemble_preds_soft):.4f}\")\n",
        "print(f\"Stacking Ensemble: {accuracy_score(y_test, stacking_preds):.4f}\")\n",
        "print(f\"LSTM: {acc:.4f}\")\n",
        "print(f\"CNN: {acc_cnn:.4f}\")\n",
        "print(f\"CNN + LSTM Ensemble: {accuracy_score(y_test, final_labels):.4f}\")\n",
        "\n",
        "print(\"\\n=== Updated Model Macro F1 Scores ===\")\n",
        "print(f\"Multinomial Naive Bayes: {f1_score(y_test, mnb_preds, average='macro'):.4f}\")\n",
        "print(f\"Logistic Regression: {f1_score(y_test, lr_preds, average='macro'):.4f}\")\n",
        "print(f\"Support Vector Machine: {f1_score(y_test, svm_preds, average='macro'):.4f}\")\n",
        "print(f\"K-Nearest Neighbors: {f1_score(y_test, knn_preds, average='macro'):.4f}\")\n",
        "print(f\"XGBoost: {f1_score(y_test, xgb_preds, average='macro'):.4f}\")\n",
        "print(f\"Ensemble (Hard Voting): {f1_score(y_test, ensemble_preds, average='macro'):.4f}\")\n",
        "print(f\"Ensemble (Soft Voting): {f1_score(y_test, ensemble_preds_soft, average='macro'):.4f}\")\n",
        "print(f\"Stacking Ensemble: {f1_score(y_test, stacking_preds, average='macro'):.4f}\")\n",
        "print(f\"LSTM: {f1_score(y_test, y_pred_labels, average='macro'):.4f}\")\n",
        "print(f\"CNN: {f1_score(y_test, y_pred_labels_cnn, average='macro'):.4f}\")\n",
        "print(f\"CNN + LSTM Ensemble: {f1_score(y_test, final_labels, average='macro'):.4f}\")"
      ]
    },
    {
      "cell_type": "markdown",
      "metadata": {
        "id": "bJnvfbcEOx1D"
      },
      "source": [
        "# 💾 **Save Models**"
      ]
    },
    {
      "cell_type": "code",
      "execution_count": null,
      "metadata": {
        "colab": {
          "base_uri": "https://localhost:8080/"
        },
        "id": "ZGSgXKFpY8Ml",
        "outputId": "0d4708e5-7c3c-45a0-ae55-9c31b3797465"
      },
      "outputs": [
        {
          "name": "stderr",
          "output_type": "stream",
          "text": [
            "WARNING:absl:You are saving your model as an HDF5 file via `model.save()` or `keras.saving.save_model(model)`. This file format is considered legacy. We recommend using instead the native Keras format, e.g. `model.save('my_model.keras')` or `keras.saving.save_model(model, 'my_model.keras')`. \n",
            "WARNING:absl:You are saving your model as an HDF5 file via `model.save()` or `keras.saving.save_model(model)`. This file format is considered legacy. We recommend using instead the native Keras format, e.g. `model.save('my_model.keras')` or `keras.saving.save_model(model, 'my_model.keras')`. \n"
          ]
        },
        {
          "name": "stdout",
          "output_type": "stream",
          "text": [
            "✅ All models and preprocessing objects saved successfully.\n"
          ]
        }
      ],
      "source": [
        "\n",
        "\n",
        "# Define directory to save models\n",
        "model_dir = 'models'\n",
        "os.makedirs(model_dir, exist_ok=True)\n",
        "\n",
        "# -----------------------------\n",
        "# Save Preprocessing Objects\n",
        "# -----------------------------\n",
        "joblib.dump(vectorizer, os.path.join(model_dir, 'tfidf_vectorizer.joblib'))\n",
        "joblib.dump(label_encoder, os.path.join(model_dir, 'label_encoder.joblib'))\n",
        "joblib.dump(tokenizer, os.path.join(model_dir, 'tokenizer.joblib'))\n",
        "\n",
        "# -----------------------------\n",
        "# Save Scikit-Learn Models\n",
        "# -----------------------------\n",
        "joblib.dump(mnb, os.path.join(model_dir, 'mnb_model.joblib'))\n",
        "joblib.dump(lr, os.path.join(model_dir, 'lr_model.joblib'))\n",
        "joblib.dump(svm, os.path.join(model_dir, 'svm_model.joblib'))\n",
        "joblib.dump(knn, os.path.join(model_dir, 'knn_model.joblib'))\n",
        "joblib.dump(xgb, os.path.join(model_dir, 'xgb_model.joblib'))\n",
        "\n",
        "# Save Voting Classifiers\n",
        "joblib.dump(updated_voting_clf, os.path.join(model_dir, 'hard_voting_model.joblib'))  # Hard Voting\n",
        "joblib.dump(updated_voting_clf, os.path.join(model_dir, 'soft_voting_model.joblib'))  # Soft Voting\n",
        "\n",
        "# Save Stacking Classifier\n",
        "joblib.dump(stacking_clf, os.path.join(model_dir, 'stacking_model.joblib'))\n",
        "\n",
        "# -----------------------------\n",
        "# Save XGBoost Model (native method)\n",
        "# -----------------------------\n",
        "xgb.save_model(os.path.join(model_dir, 'xgb_model.json'))\n",
        "\n",
        "# -----------------------------\n",
        "# Save Keras Deep Learning Models\n",
        "# -----------------------------\n",
        "# Save LSTM model\n",
        "save_model(model, os.path.join(model_dir, 'lstm_model.h5'))\n",
        "\n",
        "# If you trained a CNN model:\n",
        "if 'model_cnn' in locals() or 'model_cnn' in globals():\n",
        "    save_model(model_cnn, os.path.join(model_dir, 'cnn_model.h5'))\n",
        "\n",
        "print(\"✅ All models and preprocessing objects saved successfully.\")"
      ]
    },
    {
      "cell_type": "markdown",
      "metadata": {
        "id": "1c-rlMOn2wbB"
      },
      "source": [
        "# 📊 **Visualization**"
      ]
    },
    {
      "cell_type": "markdown",
      "metadata": {
        "id": "khhZT1L13NL7"
      },
      "source": [
        "**🔁 LSTM Convergence Plot**"
      ]
    },
    {
      "cell_type": "code",
      "execution_count": 1,
      "metadata": {
        "colab": {
          "base_uri": "https://localhost:8080/",
          "height": 507
        },
        "id": "KbBJGHJV3XcB",
        "outputId": "f0fc3189-87af-410e-b038-eb808518bcc2"
      },
      "outputs": [
        {
          "data": {
            "image/png": "[encoded data removed]",
            "text/plain": [
              "<Figure size 1200x500 with 2 Axes>"
            ]
          },
          "metadata": {},
          "output_type": "display_data"
        }
      ],
      "source": [
        "\n",
        "# Data from LSTM training\n",
        "epochs = range(1, 9)\n",
        "train_loss = [1.1131, 0.5848, 0.4036, 0.3156, 0.2593, 0.2192, 0.1948, 0.1713]\n",
        "val_loss = [0.7251, 0.5790, 0.5201, 0.5095, 0.5077, 0.5177, 0.5254, 0.5686]\n",
        "train_accuracy = [0.5124, 0.7821, 0.8515, 0.8811, 0.8997, 0.9154, 0.9248, 0.9310]\n",
        "val_accuracy = [0.7215, 0.7826, 0.8113, 0.8221, 0.8298, 0.8317, 0.8436, 0.8413]\n",
        "\n",
        "# Create a figure with two subplots\n",
        "plt.figure(figsize=(12, 5))\n",
        "\n",
        "# Plot Loss\n",
        "plt.subplot(1, 2, 1)\n",
        "plt.plot(epochs, train_loss, label='Training Loss', marker='o')\n",
        "plt.plot(epochs, val_loss, label='Validation Loss', marker='o')\n",
        "plt.title('LSTM Model Loss Convergence')\n",
        "plt.xlabel('Epoch')\n",
        "plt.ylabel('Loss')\n",
        "plt.legend()\n",
        "plt.grid(True)\n",
        "\n",
        "# Plot Accuracy\n",
        "plt.subplot(1, 2, 2)\n",
        "plt.plot(epochs, train_accuracy, label='Training Accuracy', marker='o')\n",
        "plt.plot(epochs, val_accuracy, label='Validation Accuracy', marker='o')\n",
        "plt.title('LSTM Model Accuracy Convergence')\n",
        "plt.xlabel('Epoch')\n",
        "plt.ylabel('Accuracy')\n",
        "plt.legend()\n",
        "plt.grid(True)\n",
        "\n",
        "# Adjust layout and display\n",
        "plt.tight_layout()\n",
        "plt.show()"
      ]
    },
    {
      "cell_type": "markdown",
      "metadata": {
        "id": "TrVAZdWs3gHv"
      },
      "source": [
        "**📷 CNN Convergence Plot**"
      ]
    },
    {
      "cell_type": "code",
      "execution_count": 2,
      "metadata": {
        "colab": {
          "base_uri": "https://localhost:8080/",
          "height": 507
        },
        "id": "asqypuGP3pdT",
        "outputId": "6b896e1b-dcda-4c17-d009-6fcb5feae2be"
      },
      "outputs": [
        {
          "data": {
            "image/png": "[encoded data removed]",
            "text/plain": [
              "<Figure size 1200x500 with 2 Axes>"
            ]
          },
          "metadata": {},
          "output_type": "display_data"
        }
      ],
      "source": [
        "# Data from CNN training\n",
        "epochs = range(1, 7)\n",
        "train_loss = [1.1243, 0.4607, 0.2248, 0.1554, 0.1273, 0.1157]\n",
        "val_loss = [0.6299, 0.4522, 0.4350, 0.4715, 0.5125, 0.5663]\n",
        "train_accuracy = [0.5151, 0.8363, 0.9175, 0.9393, 0.9482, 0.9528]\n",
        "val_accuracy = [0.7610, 0.8347, 0.8486, 0.8591, 0.8536, 0.8584]\n",
        "\n",
        "# Create a figure with two subplots\n",
        "plt.figure(figsize=(12, 5))\n",
        "\n",
        "# Plot Loss\n",
        "plt.subplot(1, 2, 1)\n",
        "plt.plot(epochs, train_loss, label='Training Loss', marker='o')\n",
        "plt.plot(epochs, val_loss, label='Validation Loss', marker='o')\n",
        "plt.title('CNN Model Loss Convergence')\n",
        "plt.xlabel('Epoch')\n",
        "plt.ylabel('Loss')\n",
        "plt.legend()\n",
        "plt.grid(True)\n",
        "\n",
        "# Plot Accuracy\n",
        "plt.subplot(1, 2, 2)\n",
        "plt.plot(epochs, train_accuracy, label='Training Accuracy', marker='o')\n",
        "plt.plot(epochs, val_accuracy, label='Validation Accuracy', marker='o')\n",
        "plt.title('CNN Model Accuracy Convergence')\n",
        "plt.xlabel('Epoch')\n",
        "plt.ylabel('Accuracy')\n",
        "plt.legend()\n",
        "plt.grid(True)\n",
        "\n",
        "# Adjust layout and display\n",
        "plt.tight_layout()\n",
        "plt.show()"
      ]
    }
  ],
  "metadata": {
    "colab": {
      "provenance": []
    },
    "kernelspec": {
      "display_name": "Python 3",
      "name": "python3"
    },
    "language_info": {
      "name": "python",
      "version": "3.11.5"
    }
  },
  "nbformat": 4,
  "nbformat_minor": 0
}
